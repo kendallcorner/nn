{
 "cells": [
  {
   "cell_type": "code",
   "execution_count": 1,
   "id": "79989fa5-65a3-425c-ac58-fe346e37d1d5",
   "metadata": {},
   "outputs": [
    {
     "name": "stderr",
     "output_type": "stream",
     "text": [
      "Matplotlib is building the font cache; this may take a moment.\n"
     ]
    }
   ],
   "source": [
    "import numpy as np\n",
    "import matplotlib.pyplot as plt\n"
   ]
  },
  {
   "cell_type": "code",
   "execution_count": 31,
   "id": "068b3516-9806-4e40-b839-22184777f93e",
   "metadata": {},
   "outputs": [],
   "source": [
    "def init_params(layer_dims):\n",
    "    np.random.seed(3)\n",
    "    params = {}\n",
    "\n",
    "    for l in range(1, len(layer_dims)):\n",
    "        params['W'+str(l)] = np.random.randn(layer_dims[l], layer_dims[l-1])*0.01\n",
    "        params['b'+str(l)] = np.zeros((layer_dims[l], 1))\n",
    "\n",
    "    return params"
   ]
  },
  {
   "cell_type": "code",
   "execution_count": 32,
   "id": "098eb423-9520-47f9-8267-429bfacc7428",
   "metadata": {},
   "outputs": [],
   "source": [
    "# Z (linear hypothesis) - Z = W*X + b , \n",
    "# W - weight matrix, b- bias vector, X- Input \n",
    "\n",
    "def sigmoid(Z):\n",
    "    A = 1/(1+np.exp(np.dot(-1, Z)))\n",
    "    # cache = (Z)\n",
    "\n",
    "    return A"
   ]
  },
  {
   "cell_type": "code",
   "execution_count": 48,
   "id": "781ba6bd-1b10-4b8d-9a88-e4d016578bcb",
   "metadata": {},
   "outputs": [],
   "source": [
    "def forward_prop(X, params):\n",
    "\n",
    "    A = X # input to first layer i.e. training data\n",
    "    caches = []\n",
    "    L = len(params)//2\n",
    "    for l in range(1, L+1):\n",
    "        A_prev = A\n",
    "\n",
    "        # Linear Hypothesis\n",
    "        weight = params['W'+str(l)]\n",
    "        bias = params['b'+str(l)]\n",
    "        Z = np.dot(weight, A_prev) + bias\n",
    "\n",
    "        # Storing the linear cache\n",
    "        linear_cache = (A_prev, weight, bias)\n",
    "\n",
    "        # Applying sigmoid on linear hypothesis\n",
    "        A = sigmoid(Z)\n",
    "        activation_cache = (Z)\n",
    "\n",
    "         # storing the both linear and activation cache\n",
    "        cache = (linear_cache, activation_cache)\n",
    "        caches.append(cache)\n",
    "\n",
    "    return A, caches"
   ]
  },
  {
   "cell_type": "code",
   "execution_count": 50,
   "id": "334a879c-1586-4db9-af43-11c2623b8521",
   "metadata": {},
   "outputs": [],
   "source": [
    "def cost_function(A, Y):\n",
    "    m = Y.shape[1]\n",
    "\n",
    "    cost = (-1/m)*(np.dot(np.log(A), Y.T) + np.dot(np.log(1-A), 1-Y.T))\n",
    "\n",
    "    return cost"
   ]
  },
  {
   "cell_type": "code",
   "execution_count": 5,
   "id": "253da524-1688-423a-adee-80951c3ed078",
   "metadata": {},
   "outputs": [],
   "source": [
    "def one_layer_backward(dA, cache):\n",
    "    linear_cache, activation_cache = cache\n",
    "\n",
    "    Z = activation_cache\n",
    "    dZ = dA*sigmoid(Z)*(1-sigmoid(Z)) # The derivative of the sigmoid function\n",
    "\n",
    "    A_prev, W, b = linear_cache\n",
    "    m = A_prev.shape[1]\n",
    "\n",
    "    dW = (1/m)*np.dot(dZ, A_prev.T)\n",
    "    db = (1/m)*np.sum(dZ, axis=1, keepdims=True)\n",
    "    dA_prev = np.dot(W.T, dZ)\n",
    "\n",
    "    return dA_prev, dW, db"
   ]
  },
  {
   "cell_type": "code",
   "execution_count": 6,
   "id": "36173190-e8c3-410e-82f5-3e48e12cb483",
   "metadata": {},
   "outputs": [],
   "source": [
    "def backprop(AL, Y, caches):\n",
    "    grads = {}\n",
    "    L = len(caches)\n",
    "    m = AL.shape[1]\n",
    "    Y = Y.reshape(AL.shape)\n",
    "\n",
    "    dAL = -(np.divide(Y, AL) - np.divide(1-Y, 1-AL))\n",
    "\n",
    "    current_cache = caches[L-1]\n",
    "    grads['dA'+str(L-1)], grads['dW'+str(L-1)], grads['db'+str(L-1)] = one_layer_backward(dAL, current_cache)\n",
    "\n",
    "    for l in reversed(range(L-1)):\n",
    "\n",
    "        current_cache = caches[l]\n",
    "        dA_prev_temp, dW_temp, db_temp = one_layer_backward(grads[\"dA\" + str(l+1)], current_cache)\n",
    "        grads[\"dA\" + str(l)] = dA_prev_temp\n",
    "        grads[\"dW\" + str(l + 1)] = dW_temp\n",
    "        grads[\"db\" + str(l + 1)] = db_temp\n",
    "\n",
    "    return grads\n"
   ]
  },
  {
   "cell_type": "code",
   "execution_count": 52,
   "id": "d234cd6e-21dc-4693-9a60-6f9c55fa9d94",
   "metadata": {},
   "outputs": [],
   "source": [
    "def update_parameters(parameters, grads, learning_rate):\n",
    "    L = len(parameters) // 2\n",
    "\n",
    "    for l in range(1, L):\n",
    "        parameters['W'+str(l+1)] = parameters['W'+str(l+1)] - learning_rate*grads['W'+str(l+1)]\n",
    "        parameters['b'+str(l+1)] = parameters['b'+str(l+1)] -  learning_rate*grads['b'+str(l+1)]\n",
    "\n",
    "    return parameters"
   ]
  },
  {
   "cell_type": "code",
   "execution_count": 53,
   "id": "b24db446-b61c-471b-81d9-c44f1c693911",
   "metadata": {},
   "outputs": [],
   "source": [
    "def train(X, Y, layer_dims, epochs, lr):\n",
    "    params = init_params(layer_dims)\n",
    "    print(\"params init-ed\")\n",
    "    cost_history = []\n",
    "\n",
    "    for i in range(epochs):\n",
    "        print(f'epoch: {i}')\n",
    "        Y_hat, caches = forward_prop(X, params)\n",
    "        print(f'epoch {i} forward')\n",
    "        cost = cost_function(Y_hat, Y)\n",
    "        cost_history.append(cost)\n",
    "        print(f'epoch {i} cost')\n",
    "        grads = backprop(Y_hat, Y, caches)\n",
    "        print(f'epoch {i} back')\n",
    "\n",
    "        params = update_parameters(params, grads, lr)\n",
    "        print(f'epoch {i} udpate')\n",
    "\n",
    "\n",
    "    return params, cost_history\n"
   ]
  },
  {
   "cell_type": "code",
   "execution_count": 10,
   "id": "09c0bccb-a687-49bd-9e39-eb9bab9e1e1d",
   "metadata": {},
   "outputs": [],
   "source": [
    "import pandas as pd\n",
    "chicago_taxi_dataset = pd.read_csv(\"https://download.mlcc.google.com/mledu-datasets/chicago_taxi_train.csv\")"
   ]
  },
  {
   "cell_type": "code",
   "execution_count": 11,
   "id": "62f4f448-43be-4e61-859a-2ce2aa00ae49",
   "metadata": {},
   "outputs": [
    {
     "data": {
      "text/plain": [
       "Index(['TRIP_START_TIMESTAMP', 'TRIP_END_TIMESTAMP', 'TRIP_START_HOUR',\n",
       "       'TRIP_SECONDS', 'TRIP_MILES', 'TRIP_SPEED', 'PICKUP_CENSUS_TRACT',\n",
       "       'DROPOFF_CENSUS_TRACT', 'PICKUP_COMMUNITY_AREA',\n",
       "       'DROPOFF_COMMUNITY_AREA', 'FARE', 'TIPS', 'TIP_RATE', 'TOLLS', 'EXTRAS',\n",
       "       'TRIP_TOTAL', 'PAYMENT_TYPE', 'COMPANY'],\n",
       "      dtype='object')"
      ]
     },
     "execution_count": 11,
     "metadata": {},
     "output_type": "execute_result"
    }
   ],
   "source": [
    "chicago_taxi_dataset.columns"
   ]
  },
  {
   "cell_type": "code",
   "execution_count": 54,
   "id": "2d2a316b-e6e1-475b-9d44-b9251ebd7afd",
   "metadata": {},
   "outputs": [
    {
     "name": "stdout",
     "output_type": "stream",
     "text": [
      "params init-ed\n",
      "epoch: 0\n"
     ]
    },
    {
     "ename": "KeyError",
     "evalue": "'W2'",
     "output_type": "error",
     "traceback": [
      "\u001b[0;31m---------------------------------------------------------------------------\u001b[0m",
      "\u001b[0;31mKeyError\u001b[0m                                  Traceback (most recent call last)",
      "Cell \u001b[0;32mIn[54], line 5\u001b[0m\n\u001b[1;32m      2\u001b[0m Y \u001b[38;5;241m=\u001b[39m chicago_taxi_dataset\u001b[38;5;241m.\u001b[39miloc[:, \u001b[38;5;241m11\u001b[39m:\u001b[38;5;241m12\u001b[39m]\u001b[38;5;241m.\u001b[39mvalues\n\u001b[1;32m      3\u001b[0m layer_dims \u001b[38;5;241m=\u001b[39m [\u001b[38;5;28mlen\u001b[39m(\u001b[38;5;28minput\u001b[39m),\u001b[38;5;28mlen\u001b[39m(\u001b[38;5;28minput\u001b[39m),\u001b[38;5;28mlen\u001b[39m(\u001b[38;5;28minput\u001b[39m)]\n\u001b[0;32m----> 5\u001b[0m output \u001b[38;5;241m=\u001b[39m \u001b[43mtrain\u001b[49m\u001b[43m(\u001b[49m\u001b[38;5;28;43minput\u001b[39;49m\u001b[43m,\u001b[49m\u001b[43m \u001b[49m\u001b[43mY\u001b[49m\u001b[43m,\u001b[49m\u001b[43m \u001b[49m\u001b[43mlayer_dims\u001b[49m\u001b[43m,\u001b[49m\u001b[43m \u001b[49m\u001b[38;5;241;43m5\u001b[39;49m\u001b[43m,\u001b[49m\u001b[43m \u001b[49m\u001b[38;5;241;43m0.01\u001b[39;49m\u001b[43m)\u001b[49m\n\u001b[1;32m      6\u001b[0m output\n",
      "Cell \u001b[0;32mIn[53], line 13\u001b[0m, in \u001b[0;36mtrain\u001b[0;34m(X, Y, layer_dims, epochs, lr)\u001b[0m\n\u001b[1;32m     10\u001b[0m     cost_history\u001b[38;5;241m.\u001b[39mappend(cost)\n\u001b[1;32m     11\u001b[0m     grads \u001b[38;5;241m=\u001b[39m backprop(Y_hat, Y, caches)\n\u001b[0;32m---> 13\u001b[0m     params \u001b[38;5;241m=\u001b[39m \u001b[43mupdate_parameters\u001b[49m\u001b[43m(\u001b[49m\u001b[43mparams\u001b[49m\u001b[43m,\u001b[49m\u001b[43m \u001b[49m\u001b[43mgrads\u001b[49m\u001b[43m,\u001b[49m\u001b[43m \u001b[49m\u001b[43mlr\u001b[49m\u001b[43m)\u001b[49m\n\u001b[1;32m     16\u001b[0m \u001b[38;5;28;01mreturn\u001b[39;00m params, cost_history\n",
      "Cell \u001b[0;32mIn[52], line 5\u001b[0m, in \u001b[0;36mupdate_parameters\u001b[0;34m(parameters, grads, learning_rate)\u001b[0m\n\u001b[1;32m      2\u001b[0m L \u001b[38;5;241m=\u001b[39m \u001b[38;5;28mlen\u001b[39m(parameters) \u001b[38;5;241m/\u001b[39m\u001b[38;5;241m/\u001b[39m \u001b[38;5;241m2\u001b[39m\n\u001b[1;32m      4\u001b[0m \u001b[38;5;28;01mfor\u001b[39;00m l \u001b[38;5;129;01min\u001b[39;00m \u001b[38;5;28mrange\u001b[39m(\u001b[38;5;241m1\u001b[39m, L):\n\u001b[0;32m----> 5\u001b[0m     parameters[\u001b[38;5;124m'\u001b[39m\u001b[38;5;124mW\u001b[39m\u001b[38;5;124m'\u001b[39m\u001b[38;5;241m+\u001b[39m\u001b[38;5;28mstr\u001b[39m(l\u001b[38;5;241m+\u001b[39m\u001b[38;5;241m1\u001b[39m)] \u001b[38;5;241m=\u001b[39m parameters[\u001b[38;5;124m'\u001b[39m\u001b[38;5;124mW\u001b[39m\u001b[38;5;124m'\u001b[39m\u001b[38;5;241m+\u001b[39m\u001b[38;5;28mstr\u001b[39m(l\u001b[38;5;241m+\u001b[39m\u001b[38;5;241m1\u001b[39m)] \u001b[38;5;241m-\u001b[39mlearning_rate\u001b[38;5;241m*\u001b[39m\u001b[43mgrads\u001b[49m\u001b[43m[\u001b[49m\u001b[38;5;124;43m'\u001b[39;49m\u001b[38;5;124;43mW\u001b[39;49m\u001b[38;5;124;43m'\u001b[39;49m\u001b[38;5;241;43m+\u001b[39;49m\u001b[38;5;28;43mstr\u001b[39;49m\u001b[43m(\u001b[49m\u001b[43ml\u001b[49m\u001b[38;5;241;43m+\u001b[39;49m\u001b[38;5;241;43m1\u001b[39;49m\u001b[43m)\u001b[49m\u001b[43m]\u001b[49m\n\u001b[1;32m      6\u001b[0m     parameters[\u001b[38;5;124m'\u001b[39m\u001b[38;5;124mb\u001b[39m\u001b[38;5;124m'\u001b[39m\u001b[38;5;241m+\u001b[39m\u001b[38;5;28mstr\u001b[39m(l\u001b[38;5;241m+\u001b[39m\u001b[38;5;241m1\u001b[39m)] \u001b[38;5;241m=\u001b[39m parameters[\u001b[38;5;124m'\u001b[39m\u001b[38;5;124mb\u001b[39m\u001b[38;5;124m'\u001b[39m\u001b[38;5;241m+\u001b[39m\u001b[38;5;28mstr\u001b[39m(l\u001b[38;5;241m+\u001b[39m\u001b[38;5;241m1\u001b[39m)] \u001b[38;5;241m-\u001b[39m  learning_rate\u001b[38;5;241m*\u001b[39mgrads[\u001b[38;5;124m'\u001b[39m\u001b[38;5;124mb\u001b[39m\u001b[38;5;124m'\u001b[39m\u001b[38;5;241m+\u001b[39m\u001b[38;5;28mstr\u001b[39m(l\u001b[38;5;241m+\u001b[39m\u001b[38;5;241m1\u001b[39m)]\n\u001b[1;32m      8\u001b[0m \u001b[38;5;28;01mreturn\u001b[39;00m parameters\n",
      "\u001b[0;31mKeyError\u001b[0m: 'W2'"
     ]
    }
   ],
   "source": [
    "input = chicago_taxi_dataset.iloc[:, 5:6].values\n",
    "Y = chicago_taxi_dataset.iloc[:, 11:12].values\n",
    "layer_dims = [len(input),len(input),len(input)]\n",
    "\n",
    "output = train(input, Y, layer_dims, 5, 0.01)\n",
    "output"
   ]
  }
 ],
 "metadata": {
  "kernelspec": {
   "display_name": "Python 3 (ipykernel)",
   "language": "python",
   "name": "python3"
  },
  "language_info": {
   "codemirror_mode": {
    "name": "ipython",
    "version": 3
   },
   "file_extension": ".py",
   "mimetype": "text/x-python",
   "name": "python",
   "nbconvert_exporter": "python",
   "pygments_lexer": "ipython3",
   "version": "3.13.0"
  }
 },
 "nbformat": 4,
 "nbformat_minor": 5
}
