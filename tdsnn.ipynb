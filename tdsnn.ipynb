{
 "cells": [
  {
   "cell_type": "code",
   "execution_count": 1,
   "id": "79989fa5-65a3-425c-ac58-fe346e37d1d5",
   "metadata": {},
   "outputs": [
    {
     "name": "stderr",
     "output_type": "stream",
     "text": [
      "Matplotlib is building the font cache; this may take a moment.\n"
     ]
    }
   ],
   "source": [
    "import numpy as np\n",
    "import matplotlib.pyplot as plt\n"
   ]
  },
  {
   "cell_type": "code",
   "execution_count": 87,
   "id": "068b3516-9806-4e40-b839-22184777f93e",
   "metadata": {},
   "outputs": [],
   "source": [
    "def init_params(layer_dims):\n",
    "    np.random.seed(3)\n",
    "    params = {'W': {}, 'b': {}}\n",
    "\n",
    "    for l in range(len(layer_dims)):\n",
    "        params['W'][l] = np.random.randn(layer_dims[l], layer_dims[l-1])*0.01\n",
    "        params['b'][l] = np.zeros((layer_dims[l], 1))\n",
    "\n",
    "    return params"
   ]
  },
  {
   "cell_type": "code",
   "execution_count": 32,
   "id": "098eb423-9520-47f9-8267-429bfacc7428",
   "metadata": {},
   "outputs": [],
   "source": [
    "# Z (linear hypothesis) - Z = W*X + b , \n",
    "# W - weight matrix, b- bias vector, X- Input \n",
    "\n",
    "def sigmoid(Z):\n",
    "    A = 1/(1+np.exp(np.dot(-1, Z)))\n",
    "    # cache = (Z)\n",
    "\n",
    "    return A"
   ]
  },
  {
   "cell_type": "code",
   "execution_count": 48,
   "id": "781ba6bd-1b10-4b8d-9a88-e4d016578bcb",
   "metadata": {},
   "outputs": [],
   "source": [
    "def forward_prop(X, params):\n",
    "\n",
    "    A = X # input to first layer i.e. training data\n",
    "    caches = []\n",
    "    L = len(params['W'])\n",
    "    for l in range(1, L+1):\n",
    "        A_prev = A\n",
    "\n",
    "        # Linear Hypothesis\n",
    "        weight = params['W'+str(l)]\n",
    "        bias = params['b'+str(l)]\n",
    "        Z = np.dot(weight, A_prev) + bias\n",
    "\n",
    "        # Storing the linear cache\n",
    "        linear_cache = (A_prev, weight, bias)\n",
    "\n",
    "        # Applying sigmoid on linear hypothesis\n",
    "        A = sigmoid(Z)\n",
    "        activation_cache = (Z)\n",
    "\n",
    "         # storing the both linear and activation cache\n",
    "        cache = (linear_cache, activation_cache)\n",
    "        caches.append(cache)\n",
    "\n",
    "    return A, caches"
   ]
  },
  {
   "cell_type": "code",
   "execution_count": 50,
   "id": "334a879c-1586-4db9-af43-11c2623b8521",
   "metadata": {},
   "outputs": [],
   "source": [
    "def cost_function(A, Y):\n",
    "    m = Y.shape[1]\n",
    "\n",
    "    cost = (-1/m)*(np.dot(np.log(A), Y.T) + np.dot(np.log(1-A), 1-Y.T))\n",
    "\n",
    "    return cost"
   ]
  },
  {
   "cell_type": "code",
   "execution_count": 5,
   "id": "253da524-1688-423a-adee-80951c3ed078",
   "metadata": {},
   "outputs": [],
   "source": [
    "def one_layer_backward(dA, cache):\n",
    "    linear_cache, activation_cache = cache\n",
    "\n",
    "    Z = activation_cache\n",
    "    dZ = dA*sigmoid(Z)*(1-sigmoid(Z)) # The derivative of the sigmoid function\n",
    "\n",
    "    A_prev, W, b = linear_cache\n",
    "    m = A_prev.shape[1]\n",
    "\n",
    "    dW = (1/m)*np.dot(dZ, A_prev.T)\n",
    "    db = (1/m)*np.sum(dZ, axis=1, keepdims=True)\n",
    "    dA_prev = np.dot(W.T, dZ)\n",
    "\n",
    "    return dA_prev, dW, db"
   ]
  },
  {
   "cell_type": "code",
   "execution_count": 80,
   "id": "36173190-e8c3-410e-82f5-3e48e12cb483",
   "metadata": {},
   "outputs": [],
   "source": [
    "def backprop(AL, Y, caches):\n",
    "    grads = {}\n",
    "    L = len(caches)\n",
    "    m = AL.shape[1]\n",
    "    Y = Y.reshape(AL.shape)\n",
    "\n",
    "    dAL = -(np.divide(Y, AL) - np.divide(1-Y, 1-AL))\n",
    "\n",
    "    current_cache = caches[L-1]\n",
    "    grads['dA'+str(L-1)], grads['dW'+str(L-1)], grads['db'+str(L-1)] = one_layer_backward(dAL, current_cache)\n",
    "\n",
    "    for l in reversed(range(1, L-1)):\n",
    "\n",
    "        current_cache = caches[l]\n",
    "        dA_prev_temp, dW_temp, db_temp = one_layer_backward(grads[\"dA\" + str(l+1)], current_cache)\n",
    "        grads[\"dA\" + str(l)] = dA_prev_temp\n",
    "        grads[\"dW\" + str(l + 1)] = dW_temp\n",
    "        grads[\"db\" + str(l + 1)] = db_temp\n",
    "\n",
    "    return grads\n"
   ]
  },
  {
   "cell_type": "code",
   "execution_count": 81,
   "id": "d234cd6e-21dc-4693-9a60-6f9c55fa9d94",
   "metadata": {},
   "outputs": [],
   "source": [
    "def update_parameters(parameters, grads, learning_rate):\n",
    "    L = len(parameters) // 2\n",
    "\n",
    "    for l in range(1, L):\n",
    "        parameters['W'+str(l+1)] = parameters['W'+str(l+1)] - learning_rate*grads['W'+str(l+1)]\n",
    "        parameters['b'+str(l+1)] = parameters['b'+str(l+1)] -  learning_rate*grads['b'+str(l+1)]\n",
    "\n",
    "    return parameters"
   ]
  },
  {
   "cell_type": "code",
   "execution_count": 92,
   "id": "b24db446-b61c-471b-81d9-c44f1c693911",
   "metadata": {},
   "outputs": [],
   "source": [
    "def train(X, Y, layer_dims, epochs, lr):\n",
    "    params = init_params(layer_dims)\n",
    "    print(\"params init-ed\")\n",
    "    print(params['W'])\n",
    "    cost_history = []\n",
    "\n",
    "    # for i in range(epochs):\n",
    "    #     print(f'epoch: {i}')\n",
    "    #     Y_hat, caches = forward_prop(X, params)\n",
    "    #     print(f'epoch {i} forward')\n",
    "    #     cost = cost_function(Y_hat, Y)\n",
    "    #     cost_history.append(cost)\n",
    "    #     print(f'epoch {i} cost')\n",
    "    #     grads = backprop(Y_hat, Y, caches)\n",
    "    #     print(f'epoch {i} back')\n",
    "\n",
    "    #     params = update_parameters(params, grads, lr)\n",
    "    #     print(f'epoch {i} udpate')\n",
    "\n",
    "\n",
    "    return params, cost_history\n"
   ]
  },
  {
   "cell_type": "code",
   "execution_count": 83,
   "id": "09c0bccb-a687-49bd-9e39-eb9bab9e1e1d",
   "metadata": {},
   "outputs": [],
   "source": [
    "import pandas as pd\n",
    "chicago_taxi_dataset = pd.read_csv(\"https://download.mlcc.google.com/mledu-datasets/chicago_taxi_train.csv\")"
   ]
  },
  {
   "cell_type": "code",
   "execution_count": 93,
   "id": "2d2a316b-e6e1-475b-9d44-b9251ebd7afd",
   "metadata": {},
   "outputs": [
    {
     "name": "stdout",
     "output_type": "stream",
     "text": [
      "params init-ed\n",
      "{0: array([[ 0.01788628,  0.0043651 ,  0.00096497, ..., -0.01105802,\n",
      "        -0.00973133, -0.00869474],\n",
      "       [-0.01077872, -0.00025493,  0.00303501, ...,  0.00025722,\n",
      "         0.00808777,  0.00197194],\n",
      "       [-0.00724444,  0.00356433,  0.00557131, ...,  0.0157029 ,\n",
      "         0.00427096, -0.00701972],\n",
      "       ...,\n",
      "       [-0.02031105,  0.00427488,  0.01216303, ...,  0.00013409,\n",
      "         0.00550045,  0.01804406],\n",
      "       [ 0.00234855,  0.00456082,  0.01224881, ..., -0.00775281,\n",
      "        -0.00497009,  0.01289139],\n",
      "       [ 0.00923398, -0.00279362, -0.00048861, ..., -0.00705207,\n",
      "        -0.00500258, -0.00712836]]), 1: array([[ 0.00332398,  0.00336965,  0.00224342, ...,  0.01431808,\n",
      "         0.00562085,  0.00519799],\n",
      "       [-0.01808816,  0.01445452, -0.00982747, ...,  0.00024788,\n",
      "         0.00048003,  0.00292163],\n",
      "       [-0.00145554,  0.01003835, -0.00649487, ...,  0.01021231,\n",
      "         0.01129222,  0.01105009],\n",
      "       ...,\n",
      "       [-0.0110136 , -0.00491309,  0.01109839, ..., -0.00188087,\n",
      "        -0.01151286, -0.01295542],\n",
      "       [-0.01168719, -0.00833872, -0.00347277, ...,  0.00090459,\n",
      "        -0.00400357, -0.00501361],\n",
      "       [-0.00292094, -0.01017399, -0.00640513, ..., -0.01761369,\n",
      "        -0.01353973, -0.00098947]]), 2: array([[-0.00930945, -0.0096723 ,  0.0152086 , ..., -0.00967558,\n",
      "        -0.00484459,  0.00230754],\n",
      "       [-0.00074821, -0.00820612, -0.01856584, ...,  0.01247521,\n",
      "         0.0043321 , -0.01134285],\n",
      "       [ 0.01586132, -0.02069568, -0.00502084, ...,  0.00708038,\n",
      "        -0.01376128, -0.00187833],\n",
      "       ...,\n",
      "       [ 0.00685468, -0.00835866,  0.00133634, ...,  0.0213873 ,\n",
      "         0.01829622,  0.00688695],\n",
      "       [-0.00102732, -0.0031037 , -0.00229977, ...,  0.01366778,\n",
      "        -0.00823395,  0.00775103],\n",
      "       [ 0.01002318,  0.00935563,  0.00864925, ..., -0.00524241,\n",
      "         0.0097273 ,  0.01895321]])}\n"
     ]
    }
   ],
   "source": [
    "sample_set = chicago_taxi_dataset.sample(frac=0.1)\n",
    "\n",
    "input = sample_set.iloc[:, 5:6].values\n",
    "Y = sample_set.iloc[:, 11:12].values\n",
    "layer_dims = [len(input),len(input),len(input)]\n",
    "\n",
    "output = train(input, Y, layer_dims, 5, 0.01)\n"
   ]
  },
  {
   "cell_type": "code",
   "execution_count": null,
   "id": "591b22fa-3a7e-4710-9d51-de12eb247193",
   "metadata": {},
   "outputs": [],
   "source": []
  }
 ],
 "metadata": {
  "kernelspec": {
   "display_name": "Python 3 (ipykernel)",
   "language": "python",
   "name": "python3"
  },
  "language_info": {
   "codemirror_mode": {
    "name": "ipython",
    "version": 3
   },
   "file_extension": ".py",
   "mimetype": "text/x-python",
   "name": "python",
   "nbconvert_exporter": "python",
   "pygments_lexer": "ipython3",
   "version": "3.13.0"
  }
 },
 "nbformat": 4,
 "nbformat_minor": 5
}
